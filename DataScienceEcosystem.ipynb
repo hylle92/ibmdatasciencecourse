{
  "metadata": {
    "kernelspec": {
      "name": "python",
      "display_name": "Python (Pyodide)",
      "language": "python"
    },
    "language_info": {
      "codemirror_mode": {
        "name": "python",
        "version": 3
      },
      "file_extension": ".py",
      "mimetype": "text/x-python",
      "name": "python",
      "nbconvert_exporter": "python",
      "pygments_lexer": "ipython3",
      "version": "3.8"
    }
  },
  "nbformat_minor": 5,
  "nbformat": 4,
  "cells": [
    {
      "id": "8295d03e-bb3a-40c3-a49e-5b3ba1ae722f",
      "cell_type": "markdown",
      "source": "# Data Science Tools and Ecosystem",
      "metadata": {}
    },
    {
      "id": "72bdbf43-ba69-41fa-ae0b-2151f2150562",
      "cell_type": "markdown",
      "source": "In this notebook, Data Science Tools and Ecosystem are summarized.",
      "metadata": {}
    },
    {
      "id": "57adbedb-7478-40b5-9c37-3fd08bc02a38",
      "cell_type": "markdown",
      "source": "Some of the popular languages that Data Scientists use are:\n1. Python\n2. R\n3. SQL",
      "metadata": {}
    },
    {
      "id": "d5c80ce0-cd90-4768-a69b-c5ca0cb730be",
      "cell_type": "markdown",
      "source": "Some of the commonly used libraries used by Data Scientists include:\n\n1. NumPy\n2. Pandas\n3. Matplotlib\n",
      "metadata": {}
    },
    {
      "id": "275e7829-18f4-4849-b04b-2790871b001b",
      "cell_type": "markdown",
      "source": "| Data Science Tools |\n|---------------------|\n| Jupyter Notebook    |\n| RStudio             |\n| VSCode              |\n",
      "metadata": {}
    },
    {
      "id": "e23d439c-ad9b-43fb-98ab-548a21f046c8",
      "cell_type": "markdown",
      "source": "### Below are a few examples of evaluating arithmetic expressions in Python.",
      "metadata": {}
    },
    {
      "id": "b8d80fae-2bcf-446a-a555-0568fd085307",
      "cell_type": "code",
      "source": "# This is a simple arithmetic expression to multiply then add integers.\n(3 * 4) + 5\n",
      "metadata": {
        "trusted": true
      },
      "outputs": [
        {
          "execution_count": 5,
          "output_type": "execute_result",
          "data": {
            "text/plain": "17"
          },
          "metadata": {}
        }
      ],
      "execution_count": 5
    },
    {
      "id": "d9304522-008b-4a35-9fed-f0e4157d9adf",
      "cell_type": "code",
      "source": "# This will convert 200 minutes to hours by dividing by 60.\n200 / 60\n",
      "metadata": {
        "trusted": true
      },
      "outputs": [
        {
          "execution_count": 6,
          "output_type": "execute_result",
          "data": {
            "text/plain": "3.3333333333333335"
          },
          "metadata": {}
        }
      ],
      "execution_count": 6
    },
    {
      "id": "f3c4b417-f1f0-426b-975a-6237ce5e209b",
      "cell_type": "markdown",
      "source": "**Objectives:**\n\n- List popular languages for Data Science.\n- List commonly used libraries for Data Science.\n- Get to learn Jupyter Notebook\n  \n",
      "metadata": {}
    },
    {
      "id": "56e005d7-7085-44b4-a4a0-00dae7864630",
      "cell_type": "markdown",
      "source": "## Author\nAnton Hylin",
      "metadata": {}
    }
  ]
}